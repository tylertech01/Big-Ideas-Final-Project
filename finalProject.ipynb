{
 "cells": [
  {
   "cell_type": "markdown",
   "metadata": {},
   "source": [
    "*Big Ideas Final Project*\n",
    "\n",
    "*Team Name:* The Best of the Best\n",
    "\n",
    "*Team Members:*\n",
    "\n",
    "Emily Kuntz -- emk128@pitt.edu, Yuqing Zhang -- yuz191@pitt.edu, Tyler Vandenberg -- tfv1@pitt.edu\n",
    "\n",
    "\n",
    "\n",
    "*Data Sets used:*\n",
    "\n",
    "Fire Incidents: https://data.wprdc.org/datastore/dump/8d76ac6b-5ae8-4428-82a4-043130d17b02\n",
    "\n",
    "Deaths 2011-15 by Neighborhood: https://data.wprdc.org/dataset/median-age-death/resource/c2e1500a-a12a-4e91-be94-76c6a892b7e2\n",
    "\n",
    "Allegheny County COVID-19 Tests, Cases and Deaths: https://data.wprdc.org/dataset/allegheny-county-covid-19-tests-cases-and-deaths\n",
    "\n",
    "*Abstract:*\n",
    "\n",
    "During our process of determining which neighborhood in Pittsburgh is the best, we looked at 3 different data sets. One relating to covid tests and deaths in each neighborhood, the number of deaths by neighborhood from 2011-2015, and the fire incidents reported in each neighborhood. Through our data manipulation, we were looking for a neighborhood with a low rate of death, low amout of covid cases and related death, and low rate of fire incidents. The best neighborhood is determined by the people, and whether or not they can avoid covid, death, and fire."
   ]
  },
  {
   "cell_type": "markdown",
   "metadata": {},
   "source": [
    "COVID tests and deaths"
   ]
  },
  {
   "cell_type": "code",
   "execution_count": 1,
   "metadata": {},
   "outputs": [
    {
     "data": {
      "text/html": [
       "<div>\n",
       "<style scoped>\n",
       "    .dataframe tbody tr th:only-of-type {\n",
       "        vertical-align: middle;\n",
       "    }\n",
       "\n",
       "    .dataframe tbody tr th {\n",
       "        vertical-align: top;\n",
       "    }\n",
       "\n",
       "    .dataframe thead th {\n",
       "        text-align: right;\n",
       "    }\n",
       "</style>\n",
       "<table border=\"1\" class=\"dataframe\">\n",
       "  <thead>\n",
       "    <tr style=\"text-align: right;\">\n",
       "      <th></th>\n",
       "      <th>neighborhood_municipality</th>\n",
       "      <th>cases</th>\n",
       "    </tr>\n",
       "  </thead>\n",
       "  <tbody>\n",
       "    <tr>\n",
       "      <th>0</th>\n",
       "      <td>Chateau (Pittsburgh)</td>\n",
       "      <td>0</td>\n",
       "    </tr>\n",
       "    <tr>\n",
       "      <th>1</th>\n",
       "      <td>Mt. Oliver (Pittsburgh)</td>\n",
       "      <td>0</td>\n",
       "    </tr>\n",
       "    <tr>\n",
       "      <th>2</th>\n",
       "      <td>St. Clair (Pittsburgh)</td>\n",
       "      <td>0</td>\n",
       "    </tr>\n",
       "    <tr>\n",
       "      <th>3</th>\n",
       "      <td>Trafford</td>\n",
       "      <td>0</td>\n",
       "    </tr>\n",
       "    <tr>\n",
       "      <th>4</th>\n",
       "      <td>Undefined (Pittsburgh)</td>\n",
       "      <td>0</td>\n",
       "    </tr>\n",
       "  </tbody>\n",
       "</table>\n",
       "</div>"
      ],
      "text/plain": [
       "  neighborhood_municipality  cases\n",
       "0      Chateau (Pittsburgh)      0\n",
       "1   Mt. Oliver (Pittsburgh)      0\n",
       "2    St. Clair (Pittsburgh)      0\n",
       "3                  Trafford      0\n",
       "4    Undefined (Pittsburgh)      0"
      ]
     },
     "execution_count": 1,
     "metadata": {},
     "output_type": "execute_result"
    }
   ],
   "source": [
    "import pandas as pd\n",
    "\n",
    "#load data\n",
    "covid = pd.read_csv(\"covid_test.csv\")\n",
    "\n",
    "#lists the data from the 'municipality and Pittsburgh neighborhood' and the 'cases' column, sorted from lowest to highest by total cases\n",
    "covid[['neighborhood_municipality', 'cases']].sort_values('cases').head()"
   ]
  },
  {
   "cell_type": "markdown",
   "metadata": {},
   "source": [
    "Fire incidents by neighborhood"
   ]
  },
  {
   "cell_type": "code",
   "execution_count": 21,
   "metadata": {},
   "outputs": [],
   "source": [
    "import pandas as pd\n",
    "import numpy as np\n",
    "%matplotlib inline\n",
    "\n",
    "fire_incidents = pd.read_csv(\"fire\")\n"
   ]
  },
  {
   "cell_type": "code",
   "execution_count": 22,
   "metadata": {},
   "outputs": [
    {
     "data": {
      "text/html": [
       "<div>\n",
       "<style scoped>\n",
       "    .dataframe tbody tr th:only-of-type {\n",
       "        vertical-align: middle;\n",
       "    }\n",
       "\n",
       "    .dataframe tbody tr th {\n",
       "        vertical-align: top;\n",
       "    }\n",
       "\n",
       "    .dataframe thead th {\n",
       "        text-align: right;\n",
       "    }\n",
       "</style>\n",
       "<table border=\"1\" class=\"dataframe\">\n",
       "  <thead>\n",
       "    <tr style=\"text-align: right;\">\n",
       "      <th></th>\n",
       "      <th>type_description</th>\n",
       "      <th>neighborhood</th>\n",
       "    </tr>\n",
       "  </thead>\n",
       "  <tbody>\n",
       "    <tr>\n",
       "      <th>0</th>\n",
       "      <td>Building fire</td>\n",
       "      <td>NaN</td>\n",
       "    </tr>\n",
       "    <tr>\n",
       "      <th>1</th>\n",
       "      <td>Building fire</td>\n",
       "      <td>NaN</td>\n",
       "    </tr>\n",
       "    <tr>\n",
       "      <th>2</th>\n",
       "      <td>Passenger vehicle fire</td>\n",
       "      <td>NaN</td>\n",
       "    </tr>\n",
       "    <tr>\n",
       "      <th>3</th>\n",
       "      <td>Passenger vehicle fire</td>\n",
       "      <td>Fineview</td>\n",
       "    </tr>\n",
       "    <tr>\n",
       "      <th>4</th>\n",
       "      <td>Building fire</td>\n",
       "      <td>Fairywood</td>\n",
       "    </tr>\n",
       "    <tr>\n",
       "      <th>5</th>\n",
       "      <td>Outside rubbish fire, Other</td>\n",
       "      <td>South Side Flats</td>\n",
       "    </tr>\n",
       "    <tr>\n",
       "      <th>6</th>\n",
       "      <td>Cooking fire, confined to container</td>\n",
       "      <td>Allegheny Center</td>\n",
       "    </tr>\n",
       "    <tr>\n",
       "      <th>7</th>\n",
       "      <td>Building fire</td>\n",
       "      <td>Lincoln-Lemington-Belmar</td>\n",
       "    </tr>\n",
       "    <tr>\n",
       "      <th>8</th>\n",
       "      <td>Building fire</td>\n",
       "      <td>Carrick</td>\n",
       "    </tr>\n",
       "    <tr>\n",
       "      <th>9</th>\n",
       "      <td>Passenger vehicle fire</td>\n",
       "      <td>Beechview</td>\n",
       "    </tr>\n",
       "  </tbody>\n",
       "</table>\n",
       "</div>"
      ],
      "text/plain": [
       "                      type_description              neighborhood\n",
       "0                        Building fire                       NaN\n",
       "1                        Building fire                       NaN\n",
       "2               Passenger vehicle fire                       NaN\n",
       "3               Passenger vehicle fire                  Fineview\n",
       "4                        Building fire                 Fairywood\n",
       "5          Outside rubbish fire, Other          South Side Flats\n",
       "6  Cooking fire, confined to container          Allegheny Center\n",
       "7                        Building fire  Lincoln-Lemington-Belmar\n",
       "8                        Building fire                   Carrick\n",
       "9               Passenger vehicle fire                 Beechview"
      ]
     },
     "execution_count": 22,
     "metadata": {},
     "output_type": "execute_result"
    }
   ],
   "source": [
    "#getting rid of most of the columns\n",
    "fire_incidents_data = fire_incidents.drop(columns = ['call_no','incident_type','address','alarm_time','alarms','primary_unit','census_tract','council_district','ward','tract','public_works_division','pli_division','police_zone','fire_zone','latitude','longitude'])\n",
    "#first 10 rows\n",
    "fire_incidents_data.head(10)"
   ]
  },
  {
   "cell_type": "code",
   "execution_count": 23,
   "metadata": {},
   "outputs": [
    {
     "name": "stdout",
     "output_type": "stream",
     "text": [
      "The average number of incidents per neighborhood is: 71.54945054945055\n"
     ]
    }
   ],
   "source": [
    "#get the total number of incidents per neighborhood\n",
    "fire_incidents_data['neighborhood'].value_counts()\n",
    "\n",
    "#get the average per neighborhood\n",
    "average_incidents = fire_incidents_data['neighborhood'].value_counts().mean()\n",
    "\n",
    "print(\"The average number of incidents per neighborhood is:\", average_incidents)"
   ]
  },
  {
   "cell_type": "code",
   "execution_count": 24,
   "metadata": {},
   "outputs": [
    {
     "name": "stdout",
     "output_type": "stream",
     "text": [
      "The total number of fire incidents in Chateau is: 36\n"
     ]
    }
   ],
   "source": [
    "#get the total number of incidents for Chateau\n",
    "query_mask = fire_incidents_data['neighborhood'] == \"Chateau\"\n",
    "\n",
    "count = 0\n",
    "for i in query_mask:\n",
    "    if i == True:\n",
    "        count+=1\n",
    "        i+=1\n",
    "    else:\n",
    "        i+=1\n",
    "\n",
    "print(\"The total number of fire incidents in Chateau is:\", count)"
   ]
  },
  {
   "cell_type": "code",
   "execution_count": 25,
   "metadata": {},
   "outputs": [
    {
     "name": "stdout",
     "output_type": "stream",
     "text": [
      "The number of fire incidents in Chateau are 49.68514821072033 percent less than the average number of fire incidents in Pittsburgh neighborhoods.\n"
     ]
    }
   ],
   "source": [
    "percent_decrease = (average_incidents - count)/average_incidents\n",
    "print(\"The number of fire incidents in Chateau are\", percent_decrease * 100, \"percent less than the average number of fire incidents in Pittsburgh neighborhoods.\")"
   ]
  },
  {
   "cell_type": "markdown",
   "metadata": {},
   "source": [
    "Deaths by neighborhood from 2011-2015\n"
   ]
  },
  {
   "cell_type": "code",
   "execution_count": 26,
   "metadata": {},
   "outputs": [
    {
     "data": {
      "text/html": [
       "<div>\n",
       "<style scoped>\n",
       "    .dataframe tbody tr th:only-of-type {\n",
       "        vertical-align: middle;\n",
       "    }\n",
       "\n",
       "    .dataframe tbody tr th {\n",
       "        vertical-align: top;\n",
       "    }\n",
       "\n",
       "    .dataframe thead th {\n",
       "        text-align: right;\n",
       "    }\n",
       "</style>\n",
       "<table border=\"1\" class=\"dataframe\">\n",
       "  <thead>\n",
       "    <tr style=\"text-align: right;\">\n",
       "      <th></th>\n",
       "      <th>NEIGHBORHOOD</th>\n",
       "      <th>TOTALdeaths*</th>\n",
       "    </tr>\n",
       "  </thead>\n",
       "  <tbody>\n",
       "    <tr>\n",
       "      <th>0</th>\n",
       "      <td>SOUTH SHORE</td>\n",
       "      <td>0.0</td>\n",
       "    </tr>\n",
       "    <tr>\n",
       "      <th>1</th>\n",
       "      <td>CHATEAU</td>\n",
       "      <td>2.0</td>\n",
       "    </tr>\n",
       "    <tr>\n",
       "      <th>2</th>\n",
       "      <td>NORTH SHORE</td>\n",
       "      <td>5.0</td>\n",
       "    </tr>\n",
       "    <tr>\n",
       "      <th>3</th>\n",
       "      <td>ALLEGHENY WEST</td>\n",
       "      <td>8.0</td>\n",
       "    </tr>\n",
       "    <tr>\n",
       "      <th>4</th>\n",
       "      <td>SAINT CLAIR</td>\n",
       "      <td>10.0</td>\n",
       "    </tr>\n",
       "  </tbody>\n",
       "</table>\n",
       "</div>"
      ],
      "text/plain": [
       "     NEIGHBORHOOD  TOTALdeaths*\n",
       "0     SOUTH SHORE           0.0\n",
       "1         CHATEAU           2.0\n",
       "2     NORTH SHORE           5.0\n",
       "3  ALLEGHENY WEST           8.0\n",
       "4     SAINT CLAIR          10.0"
      ]
     },
     "execution_count": 26,
     "metadata": {},
     "output_type": "execute_result"
    }
   ],
   "source": [
    "import pandas as pd\n",
    "\n",
    "#Imports the data from the csv fole\n",
    "totalDeaths = pd.read_csv(\"totalDeaths.csv\")\n",
    "\n",
    "#lists the data from the neighborhood and the total deaths columns, sorted from lowest to highest by total deaths\n",
    "totalDeaths[['NEIGHBORHOOD', 'TOTALdeaths*']].sort_values('TOTALdeaths*').head()"
   ]
  },
  {
   "cell_type": "code",
   "execution_count": 27,
   "metadata": {},
   "outputs": [
    {
     "name": "stdout",
     "output_type": "stream",
     "text": [
      "The average number of deaths per neighborhood is 171.2111111111111\n"
     ]
    }
   ],
   "source": [
    "#shows the average number of deaths per neighborhood\n",
    "averageNumberOfDeaths = str(totalDeaths['TOTALdeaths*'].mean())\n",
    "print(\"The average number of deaths per neighborhood is \" + averageNumberOfDeaths)"
   ]
  },
  {
   "cell_type": "markdown",
   "metadata": {},
   "source": [
    "Decision: Best Neighborhood is *Chateau*"
   ]
  }
 ],
 "metadata": {
  "kernelspec": {
   "display_name": "Python 3",
   "language": "python",
   "name": "python3"
  },
  "language_info": {
   "codemirror_mode": {
    "name": "ipython",
    "version": 3
   },
   "file_extension": ".py",
   "mimetype": "text/x-python",
   "name": "python",
   "nbconvert_exporter": "python",
   "pygments_lexer": "ipython3",
   "version": "3.8.3"
  }
 },
 "nbformat": 4,
 "nbformat_minor": 4
}
