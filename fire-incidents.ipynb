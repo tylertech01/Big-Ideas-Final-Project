{
 "cells": [
  {
   "cell_type": "code",
   "execution_count": 1,
   "metadata": {},
   "outputs": [],
   "source": [
    "import pandas as pd\n",
    "import numpy as np\n",
    "%matplotlib inline\n",
    "\n",
    "fire_incidents = pd.read_csv(\"fire\")\n"
   ]
  },
  {
   "cell_type": "code",
   "execution_count": 3,
   "metadata": {},
   "outputs": [
    {
     "data": {
      "text/html": [
       "<div>\n",
       "<style scoped>\n",
       "    .dataframe tbody tr th:only-of-type {\n",
       "        vertical-align: middle;\n",
       "    }\n",
       "\n",
       "    .dataframe tbody tr th {\n",
       "        vertical-align: top;\n",
       "    }\n",
       "\n",
       "    .dataframe thead th {\n",
       "        text-align: right;\n",
       "    }\n",
       "</style>\n",
       "<table border=\"1\" class=\"dataframe\">\n",
       "  <thead>\n",
       "    <tr style=\"text-align: right;\">\n",
       "      <th></th>\n",
       "      <th>type_description</th>\n",
       "      <th>neighborhood</th>\n",
       "    </tr>\n",
       "  </thead>\n",
       "  <tbody>\n",
       "    <tr>\n",
       "      <th>0</th>\n",
       "      <td>Building fire</td>\n",
       "      <td>NaN</td>\n",
       "    </tr>\n",
       "    <tr>\n",
       "      <th>1</th>\n",
       "      <td>Building fire</td>\n",
       "      <td>NaN</td>\n",
       "    </tr>\n",
       "    <tr>\n",
       "      <th>2</th>\n",
       "      <td>Passenger vehicle fire</td>\n",
       "      <td>NaN</td>\n",
       "    </tr>\n",
       "    <tr>\n",
       "      <th>3</th>\n",
       "      <td>Passenger vehicle fire</td>\n",
       "      <td>Fineview</td>\n",
       "    </tr>\n",
       "    <tr>\n",
       "      <th>4</th>\n",
       "      <td>Building fire</td>\n",
       "      <td>Fairywood</td>\n",
       "    </tr>\n",
       "    <tr>\n",
       "      <th>5</th>\n",
       "      <td>Outside rubbish fire, Other</td>\n",
       "      <td>South Side Flats</td>\n",
       "    </tr>\n",
       "    <tr>\n",
       "      <th>6</th>\n",
       "      <td>Cooking fire, confined to container</td>\n",
       "      <td>Allegheny Center</td>\n",
       "    </tr>\n",
       "    <tr>\n",
       "      <th>7</th>\n",
       "      <td>Building fire</td>\n",
       "      <td>Lincoln-Lemington-Belmar</td>\n",
       "    </tr>\n",
       "    <tr>\n",
       "      <th>8</th>\n",
       "      <td>Building fire</td>\n",
       "      <td>Carrick</td>\n",
       "    </tr>\n",
       "    <tr>\n",
       "      <th>9</th>\n",
       "      <td>Passenger vehicle fire</td>\n",
       "      <td>Beechview</td>\n",
       "    </tr>\n",
       "  </tbody>\n",
       "</table>\n",
       "</div>"
      ],
      "text/plain": [
       "                      type_description              neighborhood\n",
       "0                        Building fire                       NaN\n",
       "1                        Building fire                       NaN\n",
       "2               Passenger vehicle fire                       NaN\n",
       "3               Passenger vehicle fire                  Fineview\n",
       "4                        Building fire                 Fairywood\n",
       "5          Outside rubbish fire, Other          South Side Flats\n",
       "6  Cooking fire, confined to container          Allegheny Center\n",
       "7                        Building fire  Lincoln-Lemington-Belmar\n",
       "8                        Building fire                   Carrick\n",
       "9               Passenger vehicle fire                 Beechview"
      ]
     },
     "execution_count": 3,
     "metadata": {},
     "output_type": "execute_result"
    }
   ],
   "source": [
    "#getting rid of most of the columns\n",
    "fire_incidents_data = fire_incidents.drop(columns = ['call_no','incident_type','address','alarm_time','alarms','primary_unit','census_tract','council_district','ward','tract','public_works_division','pli_division','police_zone','fire_zone','latitude','longitude'])\n",
    "#first 10 rows\n",
    "fire_incidents_data.head(10)"
   ]
  },
  {
   "cell_type": "code",
   "execution_count": 39,
   "metadata": {},
   "outputs": [
    {
     "name": "stdout",
     "output_type": "stream",
     "text": [
      "The average number of incidents per neighborhood is: 71.54945054945055\n"
     ]
    }
   ],
   "source": [
    "#get the total number of incidents per neighborhood\n",
    "fire_incidents_data['neighborhood'].value_counts()\n",
    "\n",
    "#get the average per neighborhood\n",
    "average_incidents = fire_incidents_data['neighborhood'].value_counts().mean()\n",
    "\n",
    "print(\"The average number of incidents per neighborhood is:\", average_incidents)"
   ]
  },
  {
   "cell_type": "code",
   "execution_count": 38,
   "metadata": {},
   "outputs": [
    {
     "name": "stdout",
     "output_type": "stream",
     "text": [
      "The total number of fire incidents in Chateau is: 36\n"
     ]
    }
   ],
   "source": [
    "#get the total number of incidents for Chateau\n",
    "query_mask = fire_incidents_data['neighborhood'] == \"Chateau\"\n",
    "\n",
    "count = 0\n",
    "for i in query_mask:\n",
    "    if i == True:\n",
    "        count+=1\n",
    "        i+=1\n",
    "    else:\n",
    "        i+=1\n",
    "\n",
    "print(\"The total number of fire incidents in Chateau is:\", count)"
   ]
  },
  {
   "cell_type": "code",
   "execution_count": 44,
   "metadata": {},
   "outputs": [
    {
     "name": "stdout",
     "output_type": "stream",
     "text": [
      "The number of fire incidents in Chateau are 49.68514821072033 percent less than the average number of fire incidents in Pittsburgh neighborhoods.\n"
     ]
    }
   ],
   "source": [
    "percent_decrease = (average_incidents - count)/average_incidents\n",
    "print(\"The number of fire incidents in Chateau are\", percent_decrease * 100, \"percent less than the average number of fire incidents in Pittsburgh neighborhoods.\")"
   ]
  },
  {
   "cell_type": "code",
   "execution_count": null,
   "metadata": {},
   "outputs": [],
   "source": []
  }
 ],
 "metadata": {
  "kernelspec": {
   "display_name": "Python 3",
   "language": "python",
   "name": "python3"
  },
  "language_info": {
   "codemirror_mode": {
    "name": "ipython",
    "version": 3
   },
   "file_extension": ".py",
   "mimetype": "text/x-python",
   "name": "python",
   "nbconvert_exporter": "python",
   "pygments_lexer": "ipython3",
   "version": "3.8.3"
  }
 },
 "nbformat": 4,
 "nbformat_minor": 4
}
